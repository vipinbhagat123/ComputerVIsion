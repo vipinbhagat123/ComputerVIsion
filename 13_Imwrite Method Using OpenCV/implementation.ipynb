{
 "cells": [
  {
   "cell_type": "code",
   "execution_count": 2,
   "metadata": {},
   "outputs": [],
   "source": [
    "import cv2\n",
    "import numpy as np"
   ]
  },
  {
   "cell_type": "code",
   "execution_count": 8,
   "metadata": {},
   "outputs": [],
   "source": [
    "# to save img in folder we use imwrite\n",
    "\n",
    "img=cv2.imread(\"ss.jpg\")\n",
    "re_img=cv2.resize(img, (300,300))\n",
    "\n",
    "h=np.hstack((re_img, re_img))\n",
    "v=np.vstack((h,h))\n",
    "cv2.imwrite('new_img.png', v)  ## to save img in folder we use imwrite\n",
    "\n",
    "cv2.imshow(\"sd\", v)\n",
    "cv2.waitKey(0)\n",
    "cv2.destroyAllWindows()\n",
    "\n"
   ]
  },
  {
   "cell_type": "code",
   "execution_count": null,
   "metadata": {},
   "outputs": [],
   "source": []
  }
 ],
 "metadata": {
  "kernelspec": {
   "display_name": "Python 3",
   "language": "python",
   "name": "python3"
  },
  "language_info": {
   "codemirror_mode": {
    "name": "ipython",
    "version": 3
   },
   "file_extension": ".py",
   "mimetype": "text/x-python",
   "name": "python",
   "nbconvert_exporter": "python",
   "pygments_lexer": "ipython3",
   "version": "3.12.4"
  }
 },
 "nbformat": 4,
 "nbformat_minor": 2
}
