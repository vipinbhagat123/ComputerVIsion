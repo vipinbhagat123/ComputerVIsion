{
 "cells": [
  {
   "cell_type": "code",
   "execution_count": 1,
   "metadata": {},
   "outputs": [],
   "source": [
    "import cv2"
   ]
  },
  {
   "cell_type": "code",
   "execution_count": 3,
   "metadata": {},
   "outputs": [],
   "source": [
    "img1=cv2.imread('ranbir.jpeg')\n",
    "img2=cv2.imread(\"disha patnani.jpg\")\n",
    "\n",
    "img1=cv2.resize(img1, (500,500))\n",
    "img2=cv2.resize(img2, (500,500))\n",
    "\n",
    "new_img=cv2.addWeighted(img1, 1, img2, 1, 1)\n",
    "\n",
    "cv2.imshow(\"vipin\", new_img)\n",
    "cv2.waitKey(4000)\n",
    "cv2.destroyAllWindows()"
   ]
  },
  {
   "cell_type": "code",
   "execution_count": 4,
   "metadata": {},
   "outputs": [],
   "source": [
    "img1=cv2.imread('ranbir.jpeg')\n",
    "img2=cv2.imread(\"disha patnani.jpg\")\n",
    "\n",
    "img1=cv2.resize(img1, (500,500))\n",
    "img2=cv2.resize(img2, (500,500))\n",
    "\n",
    "new_img=cv2.addWeighted(img1, 0.5, img2, 1, 1)\n",
    "\n",
    "cv2.imshow(\"vipin\", new_img)\n",
    "cv2.waitKey(4000)\n",
    "cv2.destroyAllWindows()"
   ]
  },
  {
   "cell_type": "code",
   "execution_count": 5,
   "metadata": {},
   "outputs": [],
   "source": [
    "img1=cv2.imread('ranbir.jpeg')\n",
    "img2=cv2.imread(\"disha patnani.jpg\")\n",
    "\n",
    "img1=cv2.resize(img1, (500,500))\n",
    "img2=cv2.resize(img2, (500,500))\n",
    "\n",
    "new_img=cv2.subtract(img2, img1)\n",
    "\n",
    "cv2.imshow(\"vipin\", new_img)\n",
    "cv2.waitKey(4000)\n",
    "cv2.destroyAllWindows()"
   ]
  },
  {
   "cell_type": "code",
   "execution_count": null,
   "metadata": {},
   "outputs": [],
   "source": [
    "# this are its hyperparameter\n",
    "'''\n",
    "src1 – first input array.\n",
    "alpha – weight of the first array elements.\n",
    "src2 – second input array of the same size and channel number as src1.\n",
    "beta – weight of the second array elements.\n",
    "dst – output array that has the same size and number of channels as the input arrays.\n",
    "gamma – scalar added to each sum.\n",
    "\n",
    "'''\n",
    "\n",
    "\n",
    "# alpha and beta help to increase or decrease the intensity, 0=0, 0.10=10%, 1=100%"
   ]
  }
 ],
 "metadata": {
  "kernelspec": {
   "display_name": "Python 3",
   "language": "python",
   "name": "python3"
  },
  "language_info": {
   "codemirror_mode": {
    "name": "ipython",
    "version": 3
   },
   "file_extension": ".py",
   "mimetype": "text/x-python",
   "name": "python",
   "nbconvert_exporter": "python",
   "pygments_lexer": "ipython3",
   "version": "3.12.4"
  }
 },
 "nbformat": 4,
 "nbformat_minor": 2
}
