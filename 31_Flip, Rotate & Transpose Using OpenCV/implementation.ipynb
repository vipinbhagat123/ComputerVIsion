{
 "cells": [
  {
   "cell_type": "code",
   "execution_count": 1,
   "metadata": {},
   "outputs": [],
   "source": [
    "import cv2"
   ]
  },
  {
   "cell_type": "code",
   "execution_count": 4,
   "metadata": {},
   "outputs": [],
   "source": [
    "img=cv2.imread('ss.jpg')\n",
    "img=cv2.resize(img, (500,500))\n",
    "\n",
    "img=cv2.flip(img, 1)    #Y axis\n",
    "\n",
    "cv2.imshow('dd', img)\n",
    "cv2.waitKey(0)\n",
    "cv2.destroyAllWindows()"
   ]
  },
  {
   "cell_type": "code",
   "execution_count": 5,
   "metadata": {},
   "outputs": [],
   "source": [
    "img=cv2.imread('ss.jpg')\n",
    "img=cv2.resize(img, (500,500))\n",
    "\n",
    "img=cv2.flip(img, 0)    #x axis\n",
    "\n",
    "cv2.imshow('dd', img)\n",
    "cv2.waitKey(0)\n",
    "cv2.destroyAllWindows()"
   ]
  },
  {
   "cell_type": "code",
   "execution_count": 6,
   "metadata": {},
   "outputs": [],
   "source": [
    "img=cv2.imread('ss.jpg')\n",
    "img=cv2.resize(img, (500,500))\n",
    "\n",
    "img=cv2.flip(img, -1)    #x, y axis\n",
    "\n",
    "cv2.imshow('dd', img)\n",
    "cv2.waitKey(0)\n",
    "cv2.destroyAllWindows()"
   ]
  },
  {
   "cell_type": "code",
   "execution_count": 7,
   "metadata": {},
   "outputs": [],
   "source": [
    "img=cv2.imread('ss.jpg')\n",
    "img=cv2.resize(img, (500,500))\n",
    "\n",
    "img=cv2.rotate(img, cv2.ROTATE_90_CLOCKWISE)        # use for rotation there are so many optioons\n",
    "\n",
    "cv2.imshow('dd', img)\n",
    "cv2.waitKey(0)\n",
    "cv2.destroyAllWindows()"
   ]
  },
  {
   "cell_type": "code",
   "execution_count": 8,
   "metadata": {},
   "outputs": [],
   "source": [
    "img=cv2.imread('ss.jpg')\n",
    "img=cv2.resize(img, (500,500))\n",
    "\n",
    "img=cv2.transpose(img)  # use for transpose\n",
    "\n",
    "cv2.imshow('dd', img)\n",
    "cv2.waitKey(0)\n",
    "cv2.destroyAllWindows()"
   ]
  },
  {
   "cell_type": "code",
   "execution_count": null,
   "metadata": {},
   "outputs": [],
   "source": []
  }
 ],
 "metadata": {
  "kernelspec": {
   "display_name": "Python 3",
   "language": "python",
   "name": "python3"
  },
  "language_info": {
   "codemirror_mode": {
    "name": "ipython",
    "version": 3
   },
   "file_extension": ".py",
   "mimetype": "text/x-python",
   "name": "python",
   "nbconvert_exporter": "python",
   "pygments_lexer": "ipython3",
   "version": "3.12.4"
  }
 },
 "nbformat": 4,
 "nbformat_minor": 2
}
