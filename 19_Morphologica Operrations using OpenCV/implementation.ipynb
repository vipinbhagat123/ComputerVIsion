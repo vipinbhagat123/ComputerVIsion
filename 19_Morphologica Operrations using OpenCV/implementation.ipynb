{
 "cells": [
  {
   "cell_type": "code",
   "execution_count": 1,
   "metadata": {},
   "outputs": [],
   "source": [
    "import cv2\n",
    "import numpy as np"
   ]
  },
  {
   "cell_type": "code",
   "execution_count": 2,
   "metadata": {},
   "outputs": [],
   "source": [
    "# in opening it remove white dots\n",
    "\n",
    "img=cv2.imread('images (1).png')\n",
    "img=cv2.resize(img, (500,500))\n",
    "\n",
    "k=np.ones((5,5), np.int8)\n",
    "\n",
    "op=cv2.morphologyEx(img, cv2.MORPH_OPEN,k,iterations=1)\n",
    "\n",
    "h=np.hstack((img, op))\n",
    "\n",
    "cv2.imshow(\"op\", h)\n",
    "cv2.waitKey(0)\n",
    "cv2.destroyAllWindows()"
   ]
  },
  {
   "cell_type": "code",
   "execution_count": 3,
   "metadata": {},
   "outputs": [],
   "source": [
    "# in opening it remove white dots\n",
    "\n",
    "img=cv2.imread('images (1).png')\n",
    "img=cv2.resize(img, (500,500))\n",
    "\n",
    "k=np.ones((12,12), np.int8)\n",
    "\n",
    "op=cv2.morphologyEx(img, cv2.MORPH_OPEN,k,iterations=1)\n",
    "\n",
    "h=np.hstack((img, op))\n",
    "\n",
    "cv2.imshow(\"op\", h)\n",
    "cv2.waitKey(0)\n",
    "cv2.destroyAllWindows()"
   ]
  },
  {
   "cell_type": "code",
   "execution_count": 8,
   "metadata": {},
   "outputs": [],
   "source": [
    "# in closing it remove black dots in white\n",
    "\n",
    "img1=cv2.imread('closing.png')\n",
    "img1=cv2.resize(img1, (500,500))\n",
    "\n",
    "k=np.ones((12,12), np.int8)\n",
    "\n",
    "cl=cv2.morphologyEx(img1, cv2.MORPH_CLOSE,k,iterations=1)\n",
    "\n",
    "h=np.hstack((img1, cl))\n",
    "\n",
    "cv2.imshow(\"cl\", h)\n",
    "cv2.waitKey(0)\n",
    "cv2.destroyAllWindows()"
   ]
  },
  {
   "cell_type": "code",
   "execution_count": 10,
   "metadata": {},
   "outputs": [],
   "source": [
    "\n",
    "img1=cv2.imread('images.png')\n",
    "img1=cv2.resize(img1, (500,500))\n",
    "\n",
    "k=np.ones((12,12), np.int8)\n",
    "\n",
    "gd=cv2.morphologyEx(img1, cv2.MORPH_GRADIENT,k,iterations=1)\n",
    "\n",
    "h=np.hstack((img1, gd))\n",
    "\n",
    "cv2.imshow(\"cl\", h)\n",
    "cv2.waitKey(0)\n",
    "cv2.destroyAllWindows()"
   ]
  },
  {
   "cell_type": "code",
   "execution_count": 13,
   "metadata": {},
   "outputs": [],
   "source": [
    "\n",
    "img1=cv2.imread('images.png')\n",
    "img1=cv2.resize(img1, (500,500))\n",
    "\n",
    "k=np.ones((32,32), np.int8)\n",
    "\n",
    "th=cv2.morphologyEx(img1, cv2.MORPH_TOPHAT,k,iterations=1)\n",
    "\n",
    "h=np.hstack((img1, th))\n",
    "\n",
    "cv2.imshow(\"cl\", h)\n",
    "cv2.waitKey(0)\n",
    "cv2.destroyAllWindows()"
   ]
  },
  {
   "cell_type": "code",
   "execution_count": 15,
   "metadata": {},
   "outputs": [],
   "source": [
    "\n",
    "img1=cv2.imread('images.png')\n",
    "img1=cv2.resize(img1, (500,500))\n",
    "\n",
    "k=np.ones((32,32), np.int8)\n",
    "\n",
    "bh=cv2.morphologyEx(img1, cv2.MORPH_BLACKHAT,k,iterations=1)\n",
    "\n",
    "h=np.hstack((img1, bh))\n",
    "\n",
    "cv2.imshow(\"cl\", h)\n",
    "cv2.waitKey(0)\n",
    "cv2.destroyAllWindows()"
   ]
  },
  {
   "cell_type": "code",
   "execution_count": null,
   "metadata": {},
   "outputs": [],
   "source": []
  }
 ],
 "metadata": {
  "kernelspec": {
   "display_name": "Python 3",
   "language": "python",
   "name": "python3"
  },
  "language_info": {
   "codemirror_mode": {
    "name": "ipython",
    "version": 3
   },
   "file_extension": ".py",
   "mimetype": "text/x-python",
   "name": "python",
   "nbconvert_exporter": "python",
   "pygments_lexer": "ipython3",
   "version": "3.12.4"
  }
 },
 "nbformat": 4,
 "nbformat_minor": 2
}
