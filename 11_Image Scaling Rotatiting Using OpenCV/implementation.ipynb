{
 "cells": [
  {
   "cell_type": "code",
   "execution_count": 6,
   "metadata": {},
   "outputs": [],
   "source": [
    "import cv2"
   ]
  },
  {
   "cell_type": "code",
   "execution_count": 7,
   "metadata": {},
   "outputs": [],
   "source": [
    "org_img=cv2.imread('disha patnani.jpg')\n",
    "res_img=cv2.resize(org_img, (400,500))\n",
    "\n",
    "cv2.imshow(\"diish\", res_img)\n",
    "cv2.imshow(\"dfd\", org_img)\n",
    "cv2.waitKey(0)\n",
    "cv2.destroyAllWindows()\n"
   ]
  },
  {
   "cell_type": "code",
   "execution_count": 11,
   "metadata": {},
   "outputs": [],
   "source": [
    "org_img=cv2.imread('disha patnani.jpg')\n",
    "res_img=cv2.resize(org_img, (400,500))\n",
    "w,h=res_img.shape[0], res_img.shape[1]\n",
    "\n",
    "m=cv2.getRotationMatrix2D((w/2, h/2), 40, 1)\n",
    "new_img=cv2.warpAffine(res_img,m,(h,w))\n",
    "cv2.imshow(\"df\", new_img)\n",
    "cv2.waitKey(0)\n",
    "cv2.destroyAllWindows()\n"
   ]
  },
  {
   "cell_type": "code",
   "execution_count": null,
   "metadata": {},
   "outputs": [],
   "source": []
  },
  {
   "cell_type": "code",
   "execution_count": null,
   "metadata": {},
   "outputs": [],
   "source": []
  }
 ],
 "metadata": {
  "kernelspec": {
   "display_name": "Python 3",
   "language": "python",
   "name": "python3"
  },
  "language_info": {
   "codemirror_mode": {
    "name": "ipython",
    "version": 3
   },
   "file_extension": ".py",
   "mimetype": "text/x-python",
   "name": "python",
   "nbconvert_exporter": "python",
   "pygments_lexer": "ipython3",
   "version": "3.12.4"
  }
 },
 "nbformat": 4,
 "nbformat_minor": 2
}
