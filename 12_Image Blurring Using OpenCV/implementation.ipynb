{
 "cells": [
  {
   "cell_type": "code",
   "execution_count": 3,
   "metadata": {},
   "outputs": [],
   "source": [
    "import cv2\n",
    "import numpy as np"
   ]
  },
  {
   "cell_type": "code",
   "execution_count": 12,
   "metadata": {},
   "outputs": [],
   "source": [
    "# Gaussian  Blurring\n",
    "\n",
    "org_img=cv2.imread('ss.jpg')\n",
    "res_img=cv2.resize(org_img, (500, 500))\n",
    "\n",
    "g=cv2.GaussianBlur(res_img, (5,5),0)    # (5,5) this is kernel size\n",
    "\n",
    "h=np.hstack((res_img, g))\n",
    "\n",
    "cv2.imshow(\"ws\",h)\n",
    "cv2.waitKey(0)\n",
    "cv2.destroyAllWindows()"
   ]
  },
  {
   "cell_type": "code",
   "execution_count": 13,
   "metadata": {},
   "outputs": [],
   "source": [
    "# Gaussian Blurring\n",
    "\n",
    "org_img=cv2.imread('ss.jpg')\n",
    "res_img=cv2.resize(org_img, (500, 500))\n",
    "\n",
    "g=cv2.GaussianBlur(res_img, (19,19),0)  #(19,19) this is kernel size\n",
    "\n",
    "h=np.hstack((res_img, g))\n",
    "\n",
    "cv2.imshow(\"ws\",h)\n",
    "cv2.waitKey(0)\n",
    "cv2.destroyAllWindows()"
   ]
  },
  {
   "cell_type": "code",
   "execution_count": 14,
   "metadata": {},
   "outputs": [],
   "source": [
    "# Median Blurring\n",
    "\n",
    "org_img=cv2.imread('ss.jpg')\n",
    "res_img=cv2.resize(org_img, (500, 500))\n",
    "\n",
    "g=cv2.medianBlur(res_img, 3)        # 3 is the kernel because there kernel is in the form of number and in gaussian it is in matrix form\n",
    "\n",
    "h=np.hstack((res_img, g))\n",
    "\n",
    "cv2.imshow(\"ws\",h)\n",
    "cv2.waitKey(0)\n",
    "cv2.destroyAllWindows()"
   ]
  },
  {
   "cell_type": "code",
   "execution_count": 16,
   "metadata": {},
   "outputs": [],
   "source": [
    "#Bilateral Blur\n",
    "\n",
    "org_img=cv2.imread('ss.jpg')\n",
    "res_img=cv2.resize(org_img, (500, 500))\n",
    "\n",
    "g=cv2.bilateralFilter(res_img, 9, 75,75)\n",
    "\n",
    "h=np.hstack((res_img, g))\n",
    "\n",
    "cv2.imshow(\"ws\",h)\n",
    "cv2.waitKey(0)\n",
    "cv2.destroyAllWindows()"
   ]
  },
  {
   "cell_type": "code",
   "execution_count": 19,
   "metadata": {},
   "outputs": [],
   "source": [
    "org_img=cv2.imread('ss.jpg')\n",
    "res_img=cv2.resize(org_img, (300, 300))\n",
    "\n",
    "g=cv2.GaussianBlur(res_img, (19,19),0)  #(19,19) this is kernel size\n",
    "m=cv2.medianBlur(res_img, 3)        # 3 is the kernel because there kernel is in the form of number and in gaussian it is in matrix form\n",
    "b=cv2.bilateralFilter(res_img, 9, 75,75)\n",
    "\n",
    "h=np.hstack((res_img, g, m, b))\n",
    "\n",
    "cv2.imshow(\"ws\",h)\n",
    "cv2.waitKey(0)\n",
    "cv2.destroyAllWindows()"
   ]
  },
  {
   "cell_type": "code",
   "execution_count": null,
   "metadata": {},
   "outputs": [],
   "source": []
  }
 ],
 "metadata": {
  "kernelspec": {
   "display_name": "Python 3",
   "language": "python",
   "name": "python3"
  },
  "language_info": {
   "codemirror_mode": {
    "name": "ipython",
    "version": 3
   },
   "file_extension": ".py",
   "mimetype": "text/x-python",
   "name": "python",
   "nbconvert_exporter": "python",
   "pygments_lexer": "ipython3",
   "version": "3.12.4"
  }
 },
 "nbformat": 4,
 "nbformat_minor": 2
}
