{
 "cells": [
  {
   "cell_type": "code",
   "execution_count": 2,
   "metadata": {},
   "outputs": [],
   "source": [
    "import cv2\n",
    "import numpy as np"
   ]
  },
  {
   "cell_type": "code",
   "execution_count": 5,
   "metadata": {},
   "outputs": [],
   "source": [
    "img=cv2.imread('ss.jpg')\n",
    "img=cv2.resize(img,(300,300))\n",
    "\n",
    "img1=cv2.copyMakeBorder(img, 20,20,20,20, cv2.BORDER_CONSTANT,None,value=2)\n",
    "img1=cv2.resize(img1,(300,300))\n",
    "\n",
    "cv2.imshow('wscube', img1)\n",
    "cv2.waitKey(0)\n",
    "cv2.destroyAllWindows()"
   ]
  },
  {
   "cell_type": "code",
   "execution_count": 6,
   "metadata": {},
   "outputs": [],
   "source": [
    "img=cv2.imread('ss.jpg')\n",
    "img=cv2.resize(img,(300,300))\n",
    "\n",
    "img1=cv2.copyMakeBorder(img, 20,20,20,20, cv2.BORDER_CONSTANT,None,value=2)\n",
    "img1=cv2.resize(img1,(300,300))\n",
    "\n",
    "h=np.hstack((img, img1))\n",
    "cv2.imshow('wscube', h)\n",
    "cv2.waitKey(0)\n",
    "cv2.destroyAllWindows()"
   ]
  },
  {
   "cell_type": "code",
   "execution_count": 8,
   "metadata": {},
   "outputs": [],
   "source": [
    "img=cv2.imread('ss.jpg')\n",
    "img=cv2.resize(img,(300,300))\n",
    "\n",
    "img1=cv2.copyMakeBorder(img, 20,20,20,20, cv2.BORDER_CONSTANT,None,value=2)\n",
    "img1=cv2.resize(img1,(300,300))\n",
    "\n",
    "img2=cv2.copyMakeBorder(img, 20,20,20,20,cv2.BORDER_REFLECT)\n",
    "img2=cv2.resize(img2, (300,300))\n",
    "\n",
    "h=np.hstack((img, img1, img2))\n",
    "cv2.imshow('wscube', h)\n",
    "cv2.waitKey(0)\n",
    "cv2.destroyAllWindows()"
   ]
  },
  {
   "cell_type": "code",
   "execution_count": 9,
   "metadata": {},
   "outputs": [],
   "source": [
    "img=cv2.imread('ss.jpg')\n",
    "img=cv2.resize(img,(300,300))\n",
    "\n",
    "img1=cv2.copyMakeBorder(img, 20,20,20,20, cv2.BORDER_CONSTANT,None,value=2)\n",
    "img1=cv2.resize(img1,(300,300))\n",
    "\n",
    "img2=cv2.copyMakeBorder(img, 20,20,20,20,cv2.BORDER_REFLECT)\n",
    "img2=cv2.resize(img2, (300,300))\n",
    "\n",
    "\n",
    "img3=cv2.copyMakeBorder(img, 20,20,20,20,cv2.BORDER_REFLECT101)\n",
    "img3=cv2.resize(img3, (300,300))\n",
    "\n",
    "h=np.hstack((img, img1, img2, img3))\n",
    "cv2.imshow('wscube', h)\n",
    "cv2.waitKey(0)\n",
    "cv2.destroyAllWindows()"
   ]
  },
  {
   "cell_type": "code",
   "execution_count": null,
   "metadata": {},
   "outputs": [],
   "source": []
  }
 ],
 "metadata": {
  "kernelspec": {
   "display_name": "Python 3",
   "language": "python",
   "name": "python3"
  },
  "language_info": {
   "codemirror_mode": {
    "name": "ipython",
    "version": 3
   },
   "file_extension": ".py",
   "mimetype": "text/x-python",
   "name": "python",
   "nbconvert_exporter": "python",
   "pygments_lexer": "ipython3",
   "version": "3.12.4"
  }
 },
 "nbformat": 4,
 "nbformat_minor": 2
}
