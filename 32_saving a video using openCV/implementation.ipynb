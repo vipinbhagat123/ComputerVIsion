{
 "cells": [
  {
   "cell_type": "code",
   "execution_count": 2,
   "metadata": {},
   "outputs": [],
   "source": [
    "import cv2"
   ]
  },
  {
   "cell_type": "code",
   "execution_count": 3,
   "metadata": {},
   "outputs": [],
   "source": [
    "ca=cv2.VideoCapture(0)\n",
    "\n",
    "while ca.isOpened():\n",
    "    r, frame=ca.read()\n",
    "    if r==True:\n",
    "        cv2.imshow('ddf', frame)\n",
    "        if cv2.waitKey(25) & 0xff==ord('p'):\n",
    "            break\n",
    "    else:\n",
    "        break\n",
    "ca.release()\n",
    "cv2.destroyAllWindows()"
   ]
  },
  {
   "cell_type": "code",
   "execution_count": 4,
   "metadata": {},
   "outputs": [],
   "source": [
    "ca=cv2.VideoCapture(0)\n",
    "f=cv2.VideoWriter_fourcc(*\"XVID\")\n",
    "out=cv2.VideoWriter('demo.mp4', f, 40, (640,480),0)\n",
    "\n",
    "while ca.isOpened():\n",
    "    r, frame=ca.read()\n",
    "    if r==True:\n",
    "\n",
    "        frame=cv2.cvtColor(frame,cv2.COLOR_BGR2GRAY)\n",
    "        frame=cv2.flip(frame,1)\n",
    "        cv2.imshow('ddf', frame)\n",
    "        if cv2.waitKey(25) & 0xff==ord('p'):\n",
    "            break\n",
    "    else:\n",
    "        break\n",
    "ca.release()\n",
    "out.release()\n",
    "cv2.destroyAllWindows()"
   ]
  },
  {
   "cell_type": "code",
   "execution_count": null,
   "metadata": {},
   "outputs": [],
   "source": []
  }
 ],
 "metadata": {
  "kernelspec": {
   "display_name": "Python 3",
   "language": "python",
   "name": "python3"
  },
  "language_info": {
   "codemirror_mode": {
    "name": "ipython",
    "version": 3
   },
   "file_extension": ".py",
   "mimetype": "text/x-python",
   "name": "python",
   "nbconvert_exporter": "python",
   "pygments_lexer": "ipython3",
   "version": "3.12.4"
  }
 },
 "nbformat": 4,
 "nbformat_minor": 2
}
