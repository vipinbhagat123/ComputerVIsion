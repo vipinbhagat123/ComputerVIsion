{
 "cells": [
  {
   "cell_type": "code",
   "execution_count": 2,
   "metadata": {},
   "outputs": [],
   "source": [
    "import cv2"
   ]
  },
  {
   "cell_type": "code",
   "execution_count": 3,
   "metadata": {},
   "outputs": [
    {
     "name": "stdout",
     "output_type": "stream",
     "text": [
      "(500, 500, 3)\n"
     ]
    }
   ],
   "source": [
    "img=cv2.imread('ss.jpg')\n",
    "img=cv2.resize(img, (500, 500))\n",
    "\n",
    "print(img.shape)\n",
    "\n",
    "cv2.imshow('ss', img)\n",
    "cv2.waitKey(0)\n",
    "cv2.destroyAllWindows()"
   ]
  },
  {
   "cell_type": "code",
   "execution_count": 4,
   "metadata": {},
   "outputs": [
    {
     "name": "stdout",
     "output_type": "stream",
     "text": [
      "(500, 500, 3)\n"
     ]
    }
   ],
   "source": [
    "# we didn't use crop in it\n",
    "\n",
    "img=cv2.imread('ss.jpg')\n",
    "img=cv2.resize(img, (500, 500))\n",
    "\n",
    "print(img.shape)\n",
    "crop=img[:,:]\n",
    "\n",
    "cv2.imshow('ss', img)\n",
    "cv2.imshow('ss', crop)\n",
    "cv2.waitKey(0)\n",
    "cv2.destroyAllWindows()"
   ]
  },
  {
   "cell_type": "code",
   "execution_count": 5,
   "metadata": {},
   "outputs": [
    {
     "name": "stdout",
     "output_type": "stream",
     "text": [
      "(500, 500, 3)\n"
     ]
    }
   ],
   "source": [
    "# we didn't use crop in it\n",
    "\n",
    "img=cv2.imread('ss.jpg')\n",
    "img=cv2.resize(img, (500, 500))\n",
    "\n",
    "print(img.shape)\n",
    "crop=img[:,:200,:]\n",
    "\n",
    "cv2.imshow('ss', img)\n",
    "cv2.imshow('ss', crop)\n",
    "cv2.waitKey(0)\n",
    "cv2.destroyAllWindows()"
   ]
  },
  {
   "cell_type": "code",
   "execution_count": 6,
   "metadata": {},
   "outputs": [
    {
     "name": "stdout",
     "output_type": "stream",
     "text": [
      "(500, 500, 3)\n"
     ]
    }
   ],
   "source": [
    "# we  use crop in it\n",
    "\n",
    "img=cv2.imread('ss.jpg')\n",
    "img=cv2.resize(img, (500, 500))\n",
    "\n",
    "print(img.shape)\n",
    "crop=img[:,:200,:]\n",
    "\n",
    "cv2.imshow('ss', img)\n",
    "cv2.imshow('ss', crop)\n",
    "cv2.waitKey(0)\n",
    "cv2.destroyAllWindows()"
   ]
  },
  {
   "cell_type": "code",
   "execution_count": 14,
   "metadata": {},
   "outputs": [
    {
     "name": "stdout",
     "output_type": "stream",
     "text": [
      "(400, 500, 3)\n"
     ]
    }
   ],
   "source": [
    "# we  use crop in it\n",
    "\n",
    "img=cv2.imread('ss.jpg')\n",
    "img=cv2.resize(img, (500, 400))\n",
    "\n",
    "print(img.shape)\n",
    "crop=img[120:170,200:400]\n",
    "\n",
    "cv2.imshow('ss', img)\n",
    "cv2.imshow('ss', crop)\n",
    "cv2.waitKey(0)\n",
    "cv2.destroyAllWindows()"
   ]
  },
  {
   "cell_type": "code",
   "execution_count": null,
   "metadata": {},
   "outputs": [],
   "source": []
  }
 ],
 "metadata": {
  "kernelspec": {
   "display_name": "Python 3",
   "language": "python",
   "name": "python3"
  },
  "language_info": {
   "codemirror_mode": {
    "name": "ipython",
    "version": 3
   },
   "file_extension": ".py",
   "mimetype": "text/x-python",
   "name": "python",
   "nbconvert_exporter": "python",
   "pygments_lexer": "ipython3",
   "version": "3.12.4"
  }
 },
 "nbformat": 4,
 "nbformat_minor": 2
}
