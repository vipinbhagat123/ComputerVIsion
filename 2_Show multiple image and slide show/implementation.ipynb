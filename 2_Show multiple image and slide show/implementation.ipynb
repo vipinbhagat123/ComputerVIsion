{
 "cells": [
  {
   "cell_type": "code",
   "execution_count": 28,
   "metadata": {},
   "outputs": [],
   "source": [
    "import cv2\n",
    "import numpy as np\n",
    "import os"
   ]
  },
  {
   "cell_type": "code",
   "execution_count": 29,
   "metadata": {},
   "outputs": [],
   "source": [
    "img=cv2.imread(\"1.jpeg\")\n",
    "img_res=cv2.resize(img, (300, 300))\n",
    "cv2.imshow('hulk1', img)\n",
    "cv2.waitKey(4000)\n",
    "cv2.destroyAllWindows()"
   ]
  },
  {
   "cell_type": "code",
   "execution_count": 30,
   "metadata": {},
   "outputs": [
    {
     "data": {
      "text/plain": [
       "array([1, 2, 3])"
      ]
     },
     "execution_count": 30,
     "metadata": {},
     "output_type": "execute_result"
    }
   ],
   "source": [
    "v=np.array([1,2,3])\n",
    "v"
   ]
  },
  {
   "cell_type": "code",
   "execution_count": 31,
   "metadata": {},
   "outputs": [
    {
     "data": {
      "text/plain": [
       "array([1, 2, 3, 1, 2, 3])"
      ]
     },
     "execution_count": 31,
     "metadata": {},
     "output_type": "execute_result"
    }
   ],
   "source": [
    "h=np.hstack((v,v))\n",
    "h"
   ]
  },
  {
   "cell_type": "code",
   "execution_count": 32,
   "metadata": {},
   "outputs": [
    {
     "name": "stdout",
     "output_type": "stream",
     "text": [
      "[[[174 173 169]\n",
      "  [179 178 174]\n",
      "  [184 185 181]\n",
      "  ...\n",
      "  [241 240 249]\n",
      "  [241 240 249]\n",
      "  [241 240 249]]\n",
      "\n",
      " [[180 179 175]\n",
      "  [184 183 179]\n",
      "  [189 190 186]\n",
      "  ...\n",
      "  [241 240 249]\n",
      "  [241 240 249]\n",
      "  [241 240 249]]\n",
      "\n",
      " [[184 185 181]\n",
      "  [188 189 185]\n",
      "  [195 196 194]\n",
      "  ...\n",
      "  [241 241 247]\n",
      "  [241 241 247]\n",
      "  [241 241 247]]\n",
      "\n",
      " ...\n",
      "\n",
      " [[ 46  37  34]\n",
      "  [ 44  37  34]\n",
      "  [ 47  38  35]\n",
      "  ...\n",
      "  [127 116 126]\n",
      "  [128 116 128]\n",
      "  [130 118 130]]\n",
      "\n",
      " [[ 46  36  36]\n",
      "  [ 46  36  36]\n",
      "  [ 47  37  37]\n",
      "  ...\n",
      "  [125 115 127]\n",
      "  [126 116 128]\n",
      "  [128 118 130]]\n",
      "\n",
      " [[ 46  36  36]\n",
      "  [ 46  36  36]\n",
      "  [ 47  37  37]\n",
      "  ...\n",
      "  [125 115 127]\n",
      "  [126 116 128]\n",
      "  [128 118 130]]]\n"
     ]
    }
   ],
   "source": [
    "img=cv2.imread(\"1.jpeg\")\n",
    "print(img)"
   ]
  },
  {
   "cell_type": "code",
   "execution_count": 33,
   "metadata": {},
   "outputs": [],
   "source": [
    "img=cv2.imread(\"1.jpeg\")\n",
    "img_res=cv2.resize(img, (300, 300))\n",
    "k=np.hstack((img_res, img_res))         # help to slide show for horizontal\n",
    "z=np.vstack((k, k))                     # help to slide show for vertical\n",
    "cv2.imshow('hulk1', z)\n",
    "cv2.waitKey(4000)\n",
    "cv2.destroyAllWindows()"
   ]
  },
  {
   "cell_type": "code",
   "execution_count": 34,
   "metadata": {},
   "outputs": [
    {
     "data": {
      "text/plain": [
       "['clint_barton89.png',\n",
       " 'clint_barton9.png',\n",
       " 'clint_barton92.png',\n",
       " 'clint_barton93.png',\n",
       " 'clint_barton94.png']"
      ]
     },
     "execution_count": 34,
     "metadata": {},
     "output_type": "execute_result"
    }
   ],
   "source": [
    "list_name=os.listdir(r\"C:\\Users\\Asus\\Downloads\\ComputerVision\\2_Show multiple image and slide show\\assets\")\n",
    "list_name"
   ]
  },
  {
   "cell_type": "code",
   "execution_count": 37,
   "metadata": {},
   "outputs": [
    {
     "name": "stderr",
     "output_type": "stream",
     "text": [
      "<>:5: SyntaxWarning: invalid escape sequence '\\A'\n",
      "<>:5: SyntaxWarning: invalid escape sequence '\\A'\n",
      "C:\\Users\\Asus\\AppData\\Local\\Temp\\ipykernel_28880\\353615352.py:5: SyntaxWarning: invalid escape sequence '\\A'\n",
      "  path=\"C:\\\\Users\\Asus\\\\Downloads\\ComputerVision\\\\2_Show multiple image and slide show\\\\assets\"\n"
     ]
    }
   ],
   "source": [
    "## Real slide show img\n",
    "\n",
    "\n",
    "for name in list_name:\n",
    "    path=\"C:\\\\Users\\Asus\\\\Downloads\\ComputerVision\\\\2_Show multiple image and slide show\\\\assets\"\n",
    "    img_name = path + \"\\\\\" + name\n",
    "    img = cv2.imread(img_name)\n",
    "    img = cv2.resize(img, (300,300))\n",
    "    cv2.imshow('clint', img)\n",
    "    cv2.waitKey(1000)\n",
    "cv2.destroyAllWindows()"
   ]
  },
  {
   "cell_type": "code",
   "execution_count": null,
   "metadata": {},
   "outputs": [],
   "source": []
  }
 ],
 "metadata": {
  "kernelspec": {
   "display_name": "Python 3",
   "language": "python",
   "name": "python3"
  },
  "language_info": {
   "codemirror_mode": {
    "name": "ipython",
    "version": 3
   },
   "file_extension": ".py",
   "mimetype": "text/x-python",
   "name": "python",
   "nbconvert_exporter": "python",
   "pygments_lexer": "ipython3",
   "version": "3.12.4"
  }
 },
 "nbformat": 4,
 "nbformat_minor": 2
}
