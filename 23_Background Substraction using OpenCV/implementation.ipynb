{
 "cells": [
  {
   "cell_type": "code",
   "execution_count": 1,
   "metadata": {},
   "outputs": [],
   "source": [
    "import cv2"
   ]
  },
  {
   "cell_type": "code",
   "execution_count": 3,
   "metadata": {},
   "outputs": [],
   "source": [
    "# In that we just clear the background\n",
    "\n",
    "org=cv2.VideoCapture(\"Avengers Assemble Scene - The Avengers (2012) Movie Clip HD.mp4\")\n",
    "sub_m=cv2.createBackgroundSubtractorMOG2()\n",
    "while True:\n",
    "    r,frame=org.read()\n",
    "    if r==True:\n",
    "        frame=cv2.resize(frame,(500,500))\n",
    "        sub_v=sub_m.apply(frame)\n",
    "        cv2.imshow(\"mai\", sub_v)\n",
    "        cv2.imshow(\"dfd\", frame)\n",
    "        if cv2.waitKey(25)& 0xff==ord('p'):\n",
    "            break\n",
    "    else:\n",
    "        break\n",
    "org.release()\n",
    "cv2.destroyAllWindows()\n"
   ]
  },
  {
   "cell_type": "code",
   "execution_count": null,
   "metadata": {},
   "outputs": [],
   "source": []
  }
 ],
 "metadata": {
  "kernelspec": {
   "display_name": "Python 3",
   "language": "python",
   "name": "python3"
  },
  "language_info": {
   "codemirror_mode": {
    "name": "ipython",
    "version": 3
   },
   "file_extension": ".py",
   "mimetype": "text/x-python",
   "name": "python",
   "nbconvert_exporter": "python",
   "pygments_lexer": "ipython3",
   "version": "3.12.4"
  }
 },
 "nbformat": 4,
 "nbformat_minor": 2
}
