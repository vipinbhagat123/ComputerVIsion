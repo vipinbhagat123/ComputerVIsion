{
 "cells": [
  {
   "cell_type": "code",
   "execution_count": 1,
   "metadata": {},
   "outputs": [],
   "source": [
    "import cv2"
   ]
  },
  {
   "cell_type": "code",
   "execution_count": 25,
   "metadata": {},
   "outputs": [],
   "source": [
    "# Its just for printing line\n",
    "\n",
    "old_img=cv2.imread(\"1.jpeg\")\n",
    "old_img=cv2.resize(old_img, (500, 500))\n",
    "\n",
    "new_img=cv2.line(img=old_img, pt1=(150,190), pt2=(360,190), color=(0,255,0), thickness=4, lineType=4)\n",
    "\n",
    "cv2.imshow(\"hulk\", old_img)\n",
    "cv2.waitKey(1000)\n",
    "cv2.destroyAllWindows()"
   ]
  },
  {
   "cell_type": "code",
   "execution_count": 70,
   "metadata": {},
   "outputs": [],
   "source": [
    "# Its just for rectangle\n",
    "\n",
    "old_img=cv2.imread(\"1.jpeg\")\n",
    "old_img=cv2.resize(old_img, (500, 500))\n",
    "\n",
    "img_txt=cv2.putText(img=old_img, text=\"avipi\", org=(100,20), fontFace=2, fontScale=2, color=(0,255,0), thickness=2, lineType=16, bottomLeftOrigin=False)\n",
    "\n",
    "new_img=cv2.rectangle(img=img_txt, pt1=(200,20), pt2=(400,200), color=(0,255,0), thickness=4, lineType=4 )\n",
    "\n",
    "cv2.imshow(\"hulk\", new_img)\n",
    "cv2.waitKey(1000)\n",
    "cv2.destroyAllWindows()"
   ]
  },
  {
   "cell_type": "code",
   "execution_count": null,
   "metadata": {},
   "outputs": [],
   "source": []
  }
 ],
 "metadata": {
  "kernelspec": {
   "display_name": "Python 3",
   "language": "python",
   "name": "python3"
  },
  "language_info": {
   "codemirror_mode": {
    "name": "ipython",
    "version": 3
   },
   "file_extension": ".py",
   "mimetype": "text/x-python",
   "name": "python",
   "nbconvert_exporter": "python",
   "pygments_lexer": "ipython3",
   "version": "3.12.4"
  }
 },
 "nbformat": 4,
 "nbformat_minor": 2
}
