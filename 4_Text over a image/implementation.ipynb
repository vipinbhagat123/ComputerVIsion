{
 "cells": [
  {
   "cell_type": "code",
   "execution_count": 1,
   "metadata": {},
   "outputs": [],
   "source": [
    "import cv2\n",
    "img_get=cv2.imread(\"1.jpeg\")\n",
    "cv2.imshow(\"hulk1\", img_get)\n",
    "cv2.waitKey(4000)\n",
    "cv2.destroyAllWindows()"
   ]
  },
  {
   "cell_type": "code",
   "execution_count": 20,
   "metadata": {},
   "outputs": [],
   "source": [
    "img_get = cv2.imread(\"1.jpeg\")\n",
    "img_get = cv2.resize(img_get,(300, 300))\n",
    "\n",
    "\n",
    "txt=cv2.putText(img=img_get,\n",
    "text='WSCUBE',\n",
    "org=(150, 150),\n",
    "fontFace=cv2.FONT_HERSHEY_DUPLEX,\n",
    "fontScale = 1,\n",
    "color=(0,255,0),  ## it is in the bgr format\n",
    "thickness=2,\n",
    "lineType=cv2.LINE_8,\n",
    "bottomLeftOrigin =False)\n",
    "\n",
    "cv2.imshow(\"hulk1\", img_get)\n",
    "cv2.waitKey(4000)\n",
    "cv2.destroyAllWindows()"
   ]
  },
  {
   "cell_type": "code",
   "execution_count": null,
   "metadata": {},
   "outputs": [],
   "source": []
  }
 ],
 "metadata": {
  "kernelspec": {
   "display_name": "Python 3",
   "language": "python",
   "name": "python3"
  },
  "language_info": {
   "codemirror_mode": {
    "name": "ipython",
    "version": 3
   },
   "file_extension": ".py",
   "mimetype": "text/x-python",
   "name": "python",
   "nbconvert_exporter": "python",
   "pygments_lexer": "ipython3",
   "version": "3.12.4"
  }
 },
 "nbformat": 4,
 "nbformat_minor": 2
}
