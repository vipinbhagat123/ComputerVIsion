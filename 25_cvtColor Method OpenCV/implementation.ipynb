{
 "cells": [
  {
   "cell_type": "code",
   "execution_count": 2,
   "metadata": {},
   "outputs": [],
   "source": [
    "import cv2"
   ]
  },
  {
   "cell_type": "code",
   "execution_count": 7,
   "metadata": {},
   "outputs": [],
   "source": [
    "# There the photo effect changes\n",
    "\n",
    "org=cv2.imread('ss.jpg')\n",
    "org=cv2.resize(org, (500,500))\n",
    "new=cv2.cvtColor(org, cv2.COLOR_BGR2LUV)\n",
    "\n",
    "cv2.imshow('org', org)\n",
    "cv2.imshow('new', new)\n",
    "\n",
    "cv2.waitKey(0)\n",
    "cv2.destroyAllWindows()"
   ]
  },
  {
   "cell_type": "code",
   "execution_count": 8,
   "metadata": {},
   "outputs": [],
   "source": [
    "org=cv2.imread('ss.jpg')\n",
    "org=cv2.resize(org, (500,500))\n",
    "new=cv2.cvtColor(org, cv2.COLOR_BGR2HSV)\n",
    "\n",
    "cv2.imshow('org', org)\n",
    "cv2.imshow('new', new)\n",
    "\n",
    "cv2.waitKey(0)\n",
    "cv2.destroyAllWindows()"
   ]
  },
  {
   "cell_type": "code",
   "execution_count": 9,
   "metadata": {},
   "outputs": [],
   "source": [
    "org=cv2.imread('ss.jpg')\n",
    "org=cv2.resize(org, (500,500))\n",
    "new=cv2.cvtColor(org, cv2.COLOR_BGR2GRAY)\n",
    "\n",
    "cv2.imshow('org', org)\n",
    "cv2.imshow('new', new)\n",
    "\n",
    "cv2.waitKey(0)\n",
    "cv2.destroyAllWindows()"
   ]
  },
  {
   "cell_type": "code",
   "execution_count": null,
   "metadata": {},
   "outputs": [],
   "source": []
  }
 ],
 "metadata": {
  "kernelspec": {
   "display_name": "Python 3",
   "language": "python",
   "name": "python3"
  },
  "language_info": {
   "codemirror_mode": {
    "name": "ipython",
    "version": 3
   },
   "file_extension": ".py",
   "mimetype": "text/x-python",
   "name": "python",
   "nbconvert_exporter": "python",
   "pygments_lexer": "ipython3",
   "version": "3.12.4"
  }
 },
 "nbformat": 4,
 "nbformat_minor": 2
}
