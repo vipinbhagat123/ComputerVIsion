{
 "cells": [
  {
   "cell_type": "code",
   "execution_count": 1,
   "metadata": {},
   "outputs": [],
   "source": [
    "import cv2"
   ]
  },
  {
   "cell_type": "code",
   "execution_count": 2,
   "metadata": {},
   "outputs": [],
   "source": [
    "img=cv2.imread(\"ranbir.jpeg\")\n",
    "img=cv2.resize(img, (500,500))\n",
    "\n",
    "cv2.imshow('ranbir', img)\n",
    "cv2.waitKey(0)\n",
    "cv2.destroyAllWindows()"
   ]
  },
  {
   "cell_type": "code",
   "execution_count": 3,
   "metadata": {},
   "outputs": [
    {
     "name": "stdout",
     "output_type": "stream",
     "text": [
      "(278, 182, 3)\n",
      "(139, 91, 3)\n",
      "(70, 46, 3)\n"
     ]
    }
   ],
   "source": [
    "#pyrDown helps to convert big img into small img\n",
    "\n",
    "img1=cv2.imread('ranbir.jpeg')\n",
    "print(img1.shape)\n",
    "\n",
    "new=cv2.pyrDown(img1)\n",
    "print(new.shape)\n",
    "\n",
    "new1=cv2.pyrDown(new)\n",
    "print(new1.shape)\n",
    "\n",
    "cv2.imshow('r', img)\n",
    "cv2.imshow('ra', new)\n",
    "cv2.imshow('ran', new1)\n",
    "cv2.waitKey(0)\n",
    "cv2.destroyAllWindows()"
   ]
  },
  {
   "cell_type": "code",
   "execution_count": 4,
   "metadata": {},
   "outputs": [
    {
     "name": "stdout",
     "output_type": "stream",
     "text": [
      "(278, 182, 3)\n",
      "(139, 91, 3)\n",
      "(278, 182, 3)\n"
     ]
    }
   ],
   "source": [
    "#pyrUP helps to convert small img into big img\n",
    "\n",
    "img1=cv2.imread('ranbir.jpeg')\n",
    "print(img1.shape)\n",
    "\n",
    "new=cv2.pyrDown(img1)\n",
    "print(new.shape)\n",
    "\n",
    "new1=cv2.pyrUp(new)\n",
    "print(new1.shape)\n",
    "\n",
    "cv2.imshow('r', img)\n",
    "cv2.imshow('ra', new)\n",
    "cv2.imshow('ran', new1)\n",
    "cv2.waitKey(0)\n",
    "cv2.destroyAllWindows()"
   ]
  },
  {
   "cell_type": "code",
   "execution_count": null,
   "metadata": {},
   "outputs": [],
   "source": []
  }
 ],
 "metadata": {
  "kernelspec": {
   "display_name": "Python 3",
   "language": "python",
   "name": "python3"
  },
  "language_info": {
   "codemirror_mode": {
    "name": "ipython",
    "version": 3
   },
   "file_extension": ".py",
   "mimetype": "text/x-python",
   "name": "python",
   "nbconvert_exporter": "python",
   "pygments_lexer": "ipython3",
   "version": "3.12.4"
  }
 },
 "nbformat": 4,
 "nbformat_minor": 2
}
