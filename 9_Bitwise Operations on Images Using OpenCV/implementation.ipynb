{
 "cells": [
  {
   "cell_type": "code",
   "execution_count": 4,
   "metadata": {},
   "outputs": [],
   "source": [
    "import cv2\n",
    "import numpy as np"
   ]
  },
  {
   "cell_type": "code",
   "execution_count": 6,
   "metadata": {},
   "outputs": [],
   "source": [
    "# bitwise and operator\n",
    "\n",
    "img1= cv2.imread('images1.png')\n",
    "img2= cv2.imread('images2.png')\n",
    "\n",
    "img1 = cv2.resize(img1, (500, 500))\n",
    "img2 = cv2.resize(img2, (500, 500))\n",
    "\n",
    "new = cv2.bitwise_and(img1, img2)       #bitwise_and operator\n",
    "\n",
    "h1=np.hstack((img1, img2, new))\n",
    "\n",
    "cv2.imshow(\"img\", h1)\n",
    "cv2.waitKey(0)\n",
    "cv2.destroyAllWindows()"
   ]
  },
  {
   "cell_type": "code",
   "execution_count": 9,
   "metadata": {},
   "outputs": [],
   "source": [
    "# bitwise or operator\n",
    "\n",
    "img1= cv2.imread('images1.png')\n",
    "img2= cv2.imread('images2.png')\n",
    "\n",
    "img1 = cv2.resize(img1, (500, 500))\n",
    "img2 = cv2.resize(img2, (500, 500))\n",
    "\n",
    "new = cv2.bitwise_or(img1, img2)       #bitwise_or operator\n",
    "\n",
    "h1=np.hstack((img1, img2, new))\n",
    "\n",
    "cv2.imshow(\"img\", h1)\n",
    "cv2.waitKey(0)\n",
    "cv2.destroyAllWindows()\n",
    "\n",
    "\n"
   ]
  },
  {
   "cell_type": "code",
   "execution_count": 10,
   "metadata": {},
   "outputs": [],
   "source": [
    "# bitwise xor operator\n",
    "\n",
    "img1= cv2.imread('images1.png')\n",
    "img2= cv2.imread('images2.png')\n",
    "\n",
    "img1 = cv2.resize(img1, (500, 500))\n",
    "img2 = cv2.resize(img2, (500, 500))\n",
    "\n",
    "new = cv2.bitwise_xor(img1, img2)       #bitwise xor operator\n",
    "\n",
    "h1=np.hstack((img1, img2, new))\n",
    "\n",
    "cv2.imshow(\"img\", h1)\n",
    "cv2.waitKey(0)\n",
    "cv2.destroyAllWindows()"
   ]
  },
  {
   "cell_type": "code",
   "execution_count": 13,
   "metadata": {},
   "outputs": [],
   "source": [
    "# bitwise not operator\n",
    "\n",
    "img1= cv2.imread('images1.png')\n",
    "img2= cv2.imread('images2.png')\n",
    "\n",
    "img1 = cv2.resize(img1, (300, 300))\n",
    "img2 = cv2.resize(img2, (300, 300))\n",
    "\n",
    "new1 = cv2.bitwise_not(img1)       #bitwise not operator\n",
    "new2 = cv2.bitwise_not(img2)\n",
    "\n",
    "\n",
    "h1=np.hstack((img1,new1))\n",
    "h2=np.hstack((img2, new2))\n",
    "\n",
    "v=np.vstack((h1,h2))\n",
    "\n",
    "cv2.imshow(\"img\", v)\n",
    "cv2.waitKey(0)\n",
    "cv2.destroyAllWindows()"
   ]
  },
  {
   "cell_type": "code",
   "execution_count": null,
   "metadata": {},
   "outputs": [],
   "source": []
  }
 ],
 "metadata": {
  "kernelspec": {
   "display_name": "Python 3",
   "language": "python",
   "name": "python3"
  },
  "language_info": {
   "codemirror_mode": {
    "name": "ipython",
    "version": 3
   },
   "file_extension": ".py",
   "mimetype": "text/x-python",
   "name": "python",
   "nbconvert_exporter": "python",
   "pygments_lexer": "ipython3",
   "version": "3.12.4"
  }
 },
 "nbformat": 4,
 "nbformat_minor": 2
}
