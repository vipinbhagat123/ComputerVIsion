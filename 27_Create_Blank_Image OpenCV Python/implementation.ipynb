{
 "cells": [
  {
   "cell_type": "code",
   "execution_count": 2,
   "metadata": {},
   "outputs": [],
   "source": [
    "import cv2\n",
    "import numpy as np\n"
   ]
  },
  {
   "cell_type": "code",
   "execution_count": 3,
   "metadata": {},
   "outputs": [
    {
     "name": "stdout",
     "output_type": "stream",
     "text": [
      "(720, 550, 3)\n"
     ]
    }
   ],
   "source": [
    "img=cv2.imread('Team_02.jpg')\n",
    "print(img.shape)"
   ]
  },
  {
   "cell_type": "code",
   "execution_count": 4,
   "metadata": {},
   "outputs": [
    {
     "name": "stdout",
     "output_type": "stream",
     "text": [
      "[[[226 223 225]\n",
      "  [226 223 225]\n",
      "  [226 223 225]\n",
      "  ...\n",
      "  [229 229 229]\n",
      "  [229 229 229]\n",
      "  [229 229 229]]\n",
      "\n",
      " [[226 223 225]\n",
      "  [226 223 225]\n",
      "  [226 223 225]\n",
      "  ...\n",
      "  [229 229 229]\n",
      "  [229 229 229]\n",
      "  [229 229 229]]\n",
      "\n",
      " [[226 223 225]\n",
      "  [226 223 225]\n",
      "  [226 223 225]\n",
      "  ...\n",
      "  [229 229 229]\n",
      "  [229 229 229]\n",
      "  [229 229 229]]\n",
      "\n",
      " ...\n",
      "\n",
      " [[221 219 219]\n",
      "  [221 219 219]\n",
      "  [221 219 219]\n",
      "  ...\n",
      "  [214 212 212]\n",
      "  [214 212 212]\n",
      "  [214 212 212]]\n",
      "\n",
      " [[221 219 219]\n",
      "  [221 219 219]\n",
      "  [221 219 219]\n",
      "  ...\n",
      "  [214 212 212]\n",
      "  [214 212 212]\n",
      "  [214 212 212]]\n",
      "\n",
      " [[221 219 219]\n",
      "  [221 219 219]\n",
      "  [221 219 219]\n",
      "  ...\n",
      "  [214 212 212]\n",
      "  [214 212 212]\n",
      "  [214 212 212]]]\n"
     ]
    }
   ],
   "source": [
    "print(img)"
   ]
  },
  {
   "cell_type": "code",
   "execution_count": 5,
   "metadata": {},
   "outputs": [],
   "source": [
    "# we just create blank image through it\n",
    "\n",
    "new_img=np.ones((500,500,3), np.uint8)*255\n",
    "cv2.imshow('ws', new_img)\n",
    "cv2.waitKey(0)\n",
    "cv2.destroyAllWindows()\n"
   ]
  },
  {
   "cell_type": "code",
   "execution_count": null,
   "metadata": {},
   "outputs": [],
   "source": []
  }
 ],
 "metadata": {
  "kernelspec": {
   "display_name": "Python 3",
   "language": "python",
   "name": "python3"
  },
  "language_info": {
   "codemirror_mode": {
    "name": "ipython",
    "version": 3
   },
   "file_extension": ".py",
   "mimetype": "text/x-python",
   "name": "python",
   "nbconvert_exporter": "python",
   "pygments_lexer": "ipython3",
   "version": "3.12.4"
  }
 },
 "nbformat": 4,
 "nbformat_minor": 2
}
