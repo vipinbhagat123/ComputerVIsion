{
 "cells": [
  {
   "cell_type": "code",
   "execution_count": 20,
   "metadata": {},
   "outputs": [],
   "source": [
    "# it is for cirlce\n",
    "\n",
    "import cv2\n",
    "old_img=cv2.imread(\"amir.jpg\")\n",
    "old_img=cv2.resize(old_img, (300,300))\n",
    "\n",
    "new_img=cv2.circle(img=old_img, center=(160,60), radius=30, color=(0,255,0), thickness=4, lineType=16 )\n",
    "\n",
    "cv2.imshow(\"amir\", old_img)\n",
    "cv2.waitKey(4000)\n",
    "cv2.destroyAllWindows()"
   ]
  },
  {
   "cell_type": "code",
   "execution_count": 46,
   "metadata": {},
   "outputs": [],
   "source": [
    "# it is for ellipse\n",
    "\n",
    "import cv2\n",
    "old_img=cv2.imread(\"disha patnani.jpg\")\n",
    "old_img=cv2.resize(old_img, (500,600))\n",
    "\n",
    "new_img=cv2.ellipse(img=old_img, center=(280,160), axes=(95,120), angle=30, startAngle=0,endAngle=360, color=(0,255,0), thickness=4, lineType=16 )\n",
    "\n",
    "cv2.imshow(\"amir\", old_img)\n",
    "cv2.waitKey(4000)\n",
    "cv2.destroyAllWindows()"
   ]
  },
  {
   "cell_type": "code",
   "execution_count": null,
   "metadata": {},
   "outputs": [],
   "source": []
  },
  {
   "cell_type": "code",
   "execution_count": null,
   "metadata": {},
   "outputs": [],
   "source": []
  }
 ],
 "metadata": {
  "kernelspec": {
   "display_name": "Python 3",
   "language": "python",
   "name": "python3"
  },
  "language_info": {
   "codemirror_mode": {
    "name": "ipython",
    "version": 3
   },
   "file_extension": ".py",
   "mimetype": "text/x-python",
   "name": "python",
   "nbconvert_exporter": "python",
   "pygments_lexer": "ipython3",
   "version": "3.12.4"
  }
 },
 "nbformat": 4,
 "nbformat_minor": 2
}
