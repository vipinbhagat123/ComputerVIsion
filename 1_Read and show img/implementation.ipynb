{
 "cells": [
  {
   "cell_type": "code",
   "execution_count": 1,
   "metadata": {},
   "outputs": [
    {
     "name": "stdout",
     "output_type": "stream",
     "text": [
      "[[[174 173 169]\n",
      "  [179 178 174]\n",
      "  [184 185 181]\n",
      "  ...\n",
      "  [241 240 249]\n",
      "  [241 240 249]\n",
      "  [241 240 249]]\n",
      "\n",
      " [[180 179 175]\n",
      "  [184 183 179]\n",
      "  [189 190 186]\n",
      "  ...\n",
      "  [241 240 249]\n",
      "  [241 240 249]\n",
      "  [241 240 249]]\n",
      "\n",
      " [[184 185 181]\n",
      "  [188 189 185]\n",
      "  [195 196 194]\n",
      "  ...\n",
      "  [241 241 247]\n",
      "  [241 241 247]\n",
      "  [241 241 247]]\n",
      "\n",
      " ...\n",
      "\n",
      " [[ 46  37  34]\n",
      "  [ 44  37  34]\n",
      "  [ 47  38  35]\n",
      "  ...\n",
      "  [127 116 126]\n",
      "  [128 116 128]\n",
      "  [130 118 130]]\n",
      "\n",
      " [[ 46  36  36]\n",
      "  [ 46  36  36]\n",
      "  [ 47  37  37]\n",
      "  ...\n",
      "  [125 115 127]\n",
      "  [126 116 128]\n",
      "  [128 118 130]]\n",
      "\n",
      " [[ 46  36  36]\n",
      "  [ 46  36  36]\n",
      "  [ 47  37  37]\n",
      "  ...\n",
      "  [125 115 127]\n",
      "  [126 116 128]\n",
      "  [128 118 130]]]\n"
     ]
    }
   ],
   "source": [
    "import cv2\n",
    "img=cv2.imread('1.jpeg')\n",
    "print(img)"
   ]
  },
  {
   "cell_type": "code",
   "execution_count": null,
   "metadata": {},
   "outputs": [],
   "source": []
  }
 ],
 "metadata": {
  "kernelspec": {
   "display_name": "Python 3",
   "language": "python",
   "name": "python3"
  },
  "language_info": {
   "codemirror_mode": {
    "name": "ipython",
    "version": 3
   },
   "file_extension": ".py",
   "mimetype": "text/x-python",
   "name": "python",
   "nbconvert_exporter": "python",
   "pygments_lexer": "ipython3",
   "version": "3.12.4"
  }
 },
 "nbformat": 4,
 "nbformat_minor": 2
}
