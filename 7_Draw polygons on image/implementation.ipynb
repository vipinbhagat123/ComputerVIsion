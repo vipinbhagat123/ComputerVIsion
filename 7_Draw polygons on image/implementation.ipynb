{
 "cells": [
  {
   "cell_type": "code",
   "execution_count": 2,
   "metadata": {},
   "outputs": [],
   "source": [
    "import cv2\n",
    "import numpy as np\n"
   ]
  },
  {
   "cell_type": "code",
   "execution_count": 4,
   "metadata": {},
   "outputs": [],
   "source": [
    "old_img=cv2.imread('SanjanaSanghi.jpg')\n",
    "old_img=cv2.resize(old_img, (500,600))\n",
    "\n",
    "new_img =cv2.polylines(img=old_img, pts=[np.array([[100,400], [150,300],[300,400], [300,600],[100,600]])], isClosed=True, color=(0,255,0), thickness=4, lineType=16)\n",
    "\n",
    "cv2.imshow('disha', old_img)\n",
    "cv2.waitKey(4000)\n",
    "cv2.destroyAllWindows()"
   ]
  },
  {
   "cell_type": "code",
   "execution_count": null,
   "metadata": {},
   "outputs": [],
   "source": []
  }
 ],
 "metadata": {
  "kernelspec": {
   "display_name": "Python 3",
   "language": "python",
   "name": "python3"
  },
  "language_info": {
   "codemirror_mode": {
    "name": "ipython",
    "version": 3
   },
   "file_extension": ".py",
   "mimetype": "text/x-python",
   "name": "python",
   "nbconvert_exporter": "python",
   "pygments_lexer": "ipython3",
   "version": "3.12.4"
  }
 },
 "nbformat": 4,
 "nbformat_minor": 2
}
